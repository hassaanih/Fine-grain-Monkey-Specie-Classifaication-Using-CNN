{
  "nbformat": 4,
  "nbformat_minor": 0,
  "metadata": {
    "colab": {
      "name": "Project 1 FYP (FINAL).ipynb",
      "provenance": [],
      "collapsed_sections": [],
      "mount_file_id": "1Wg1WBmUfODtg7NsACNpytLUJm21VYPob",
      "authorship_tag": "ABX9TyOYIe+2TcWDcsTiBQhrDbSA",
      "include_colab_link": true
    },
    "kernelspec": {
      "name": "python3",
      "display_name": "Python 3"
    },
    "accelerator": "GPU"
  },
  "cells": [
    {
      "cell_type": "markdown",
      "metadata": {
        "id": "view-in-github",
        "colab_type": "text"
      },
      "source": [
        "<a href=\"https://colab.research.google.com/github/hassaanih/Fine-grain-Monkey-Specie-Classifaication-Using-CNN/blob/main/Monkey%20Specie%20Classification.ipynb\" target=\"_parent\"><img src=\"https://colab.research.google.com/assets/colab-badge.svg\" alt=\"Open In Colab\"/></a>"
      ]
    },
    {
      "cell_type": "code",
      "metadata": {
        "id": "WoRvjnF5LrJU"
      },
      "source": [
        "import os\n",
        "import numpy as np\n",
        "import keras\n",
        "from keras import models\n",
        "from keras import layers\n",
        "import tensorflow as tf\n",
        "from keras.preprocessing.image import ImageDataGenerator\n",
        "from keras import regularizers\n",
        "from tensorflow.keras.optimizers import Adam\n",
        "from keras.callbacks import ModelCheckpoint"
      ],
      "execution_count": null,
      "outputs": []
    },
    {
      "cell_type": "code",
      "metadata": {
        "id": "aaFzJNAgL4dp",
        "colab": {
          "base_uri": "https://localhost:8080/"
        },
        "outputId": "a8409096-3bed-4363-f78e-98e223e2228e"
      },
      "source": [
        "learning_rate = 0.01\n",
        "model= models.Sequential()\n",
        "\n",
        "model.add(layers.Conv2D(512, (3, 3), activation='relu', input_shape=(64, 64, 3)))\n",
        "model.add(layers.Conv2D(512, (3, 3), activation='relu'))\n",
        "model.add(layers.MaxPooling2D(pool_size=(2, 2)))\n",
        "model.add(layers.Dropout(0.2))\n",
        "\n",
        "model.add(layers.Conv2D(512, (3, 3), activation='relu'))\n",
        "model.add(layers.Conv2D(512, (3, 3), activation='relu'))\n",
        "model.add(layers.MaxPooling2D(pool_size=(2, 2)))\n",
        "model.add(layers.Dropout(0.2))\n",
        "\n",
        "model.add(layers.Flatten())\n",
        "model.add(layers.Dense(256, kernel_regularizer=regularizers.l2(0.001), activation='relu'))\n",
        "model.add(layers.Dropout(0.2))\n",
        "model.add(layers.Dense(256, activation='relu'))\n",
        "model.add(layers.Dropout(0.2))\n",
        "\n",
        "model.add(layers.Dense(10, activation='softmax'))\n",
        "\n",
        "model.compile(loss='categorical_crossentropy',optimizer= tf.keras.optimizers.Adam(learning_rate),metrics=['categorical_accuracy'])\n",
        "model.summary()\n",
        "\n",
        "filepath=\"Monkey_classification_10_classes.h5\"\n",
        "checkpoint = ModelCheckpoint(filepath, save_best_only=True)\n",
        "callbacks_list = [checkpoint]\n"
      ],
      "execution_count": null,
      "outputs": [
        {
          "output_type": "stream",
          "name": "stdout",
          "text": [
            "Model: \"sequential\"\n",
            "_________________________________________________________________\n",
            " Layer (type)                Output Shape              Param #   \n",
            "=================================================================\n",
            " conv2d (Conv2D)             (None, 62, 62, 512)       14336     \n",
            "                                                                 \n",
            " conv2d_1 (Conv2D)           (None, 60, 60, 512)       2359808   \n",
            "                                                                 \n",
            " max_pooling2d (MaxPooling2D  (None, 30, 30, 512)      0         \n",
            " )                                                               \n",
            "                                                                 \n",
            " dropout (Dropout)           (None, 30, 30, 512)       0         \n",
            "                                                                 \n",
            " conv2d_2 (Conv2D)           (None, 28, 28, 512)       2359808   \n",
            "                                                                 \n",
            " conv2d_3 (Conv2D)           (None, 26, 26, 512)       2359808   \n",
            "                                                                 \n",
            " max_pooling2d_1 (MaxPooling  (None, 13, 13, 512)      0         \n",
            " 2D)                                                             \n",
            "                                                                 \n",
            " dropout_1 (Dropout)         (None, 13, 13, 512)       0         \n",
            "                                                                 \n",
            " flatten (Flatten)           (None, 86528)             0         \n",
            "                                                                 \n",
            " dense (Dense)               (None, 256)               22151424  \n",
            "                                                                 \n",
            " dropout_2 (Dropout)         (None, 256)               0         \n",
            "                                                                 \n",
            " dense_1 (Dense)             (None, 256)               65792     \n",
            "                                                                 \n",
            " dropout_3 (Dropout)         (None, 256)               0         \n",
            "                                                                 \n",
            " dense_2 (Dense)             (None, 10)                2570      \n",
            "                                                                 \n",
            "=================================================================\n",
            "Total params: 29,313,546\n",
            "Trainable params: 29,313,546\n",
            "Non-trainable params: 0\n",
            "_________________________________________________________________\n"
          ]
        }
      ]
    },
    {
      "cell_type": "code",
      "metadata": {
        "id": "7MjS4BXqMlUu"
      },
      "source": [
        "train_images_dir=\"/content/drive/MyDrive/dataset monkeys/archive/training/training\"\n",
        "validation_images_dir=\"/content/drive/MyDrive/dataset monkeys/archive/validation/validation\""
      ],
      "execution_count": null,
      "outputs": []
    },
    {
      "cell_type": "code",
      "metadata": {
        "colab": {
          "base_uri": "https://localhost:8080/"
        },
        "id": "fI4g4w4WP9jr",
        "outputId": "4f8b08b0-20ed-4465-eaf4-c89443f484d1"
      },
      "source": [
        "\n",
        "\n",
        "batch_size=32\n",
        "\n",
        "train_datagen = ImageDataGenerator(\n",
        "    rescale=1./255,\n",
        "    rotation_range=40,\n",
        "    width_shift_range=0.2,\n",
        "    height_shift_range=0.2,\n",
        "    shear_range=0.2,\n",
        "    zoom_range=0.2,\n",
        "    horizontal_flip=True,)\n",
        "\n",
        "\n",
        "validation_datagen = ImageDataGenerator(rescale=1./255)\n",
        "\n",
        "\n",
        "\n",
        "train_generator = train_datagen.flow_from_directory(\n",
        "        train_images_dir,\n",
        "        target_size=(64, 64),\n",
        "        batch_size=batch_size,\n",
        "        class_mode = 'categorical')\n",
        "\n",
        "validation_generator = validation_datagen.flow_from_directory(\n",
        "        validation_images_dir,\n",
        "        target_size=(64, 64),\n",
        "        batch_size=batch_size,class_mode = 'categorical', shuffle=False)"
      ],
      "execution_count": null,
      "outputs": [
        {
          "output_type": "stream",
          "name": "stdout",
          "text": [
            "Found 1097 images belonging to 10 classes.\n",
            "Found 272 images belonging to 10 classes.\n"
          ]
        }
      ]
    },
    {
      "cell_type": "code",
      "metadata": {
        "id": "RzIc_FoDQ8nW"
      },
      "source": [
        "number_of_training_samples=1097\n",
        "number_of_validation_samples=272"
      ],
      "execution_count": null,
      "outputs": []
    },
    {
      "cell_type": "code",
      "metadata": {
        "colab": {
          "base_uri": "https://localhost:8080/"
        },
        "id": "o_jhOktjRkjx",
        "outputId": "3ada1bd4-df0a-40a3-ced1-aa614c176733"
      },
      "source": [
        "import math\n",
        "\n",
        "history = model.fit_generator(\n",
        "      train_generator,\n",
        "      steps_per_epoch=math.ceil(number_of_training_samples//batch_size),\n",
        "      epochs=100,\n",
        "      callbacks=callbacks_list,\n",
        "      validation_data=validation_generator,\n",
        "      validation_steps=math.ceil(number_of_validation_samples//batch_size))\n"
      ],
      "execution_count": null,
      "outputs": [
        {
          "metadata": {
            "tags": null
          },
          "name": "stderr",
          "output_type": "stream",
          "text": [
            "/usr/local/lib/python3.7/dist-packages/ipykernel_launcher.py:9: UserWarning: `Model.fit_generator` is deprecated and will be removed in a future version. Please use `Model.fit`, which supports generators.\n",
            "  if __name__ == '__main__':\n"
          ]
        },
        {
          "output_type": "stream",
          "name": "stdout",
          "text": [
            "Epoch 1/100\n",
            "34/34 [==============================] - 908s 26s/step - loss: 3618.5771 - categorical_accuracy: 0.0977 - val_loss: 19.7737 - val_categorical_accuracy: 0.1094\n",
            "Epoch 2/100\n",
            "34/34 [==============================] - 42s 1s/step - loss: 19.7663 - categorical_accuracy: 0.1089 - val_loss: 19.5042 - val_categorical_accuracy: 0.1094\n",
            "Epoch 3/100\n",
            "34/34 [==============================] - 42s 1s/step - loss: 19.2579 - categorical_accuracy: 0.0948 - val_loss: 19.0284 - val_categorical_accuracy: 0.1094\n",
            "Epoch 4/100\n",
            "34/34 [==============================] - 42s 1s/step - loss: 18.8642 - categorical_accuracy: 0.0920 - val_loss: 18.6913 - val_categorical_accuracy: 0.1172\n",
            "Epoch 5/100\n",
            "34/34 [==============================] - 42s 1s/step - loss: 18.5587 - categorical_accuracy: 0.1085 - val_loss: 18.4135 - val_categorical_accuracy: 0.1172\n",
            "Epoch 6/100\n",
            "34/34 [==============================] - 42s 1s/step - loss: 18.2962 - categorical_accuracy: 0.1099 - val_loss: 18.1630 - val_categorical_accuracy: 0.1172\n",
            "Epoch 7/100\n",
            "34/34 [==============================] - 42s 1s/step - loss: 18.0557 - categorical_accuracy: 0.0986 - val_loss: 17.9287 - val_categorical_accuracy: 0.1172\n",
            "Epoch 8/100\n",
            "34/34 [==============================] - 42s 1s/step - loss: 17.8215 - categorical_accuracy: 0.1089 - val_loss: 17.7031 - val_categorical_accuracy: 0.1172\n",
            "Epoch 9/100\n",
            "34/34 [==============================] - 42s 1s/step - loss: 17.5974 - categorical_accuracy: 0.0911 - val_loss: 17.4850 - val_categorical_accuracy: 0.1094\n",
            "Epoch 10/100\n",
            "34/34 [==============================] - 41s 1s/step - loss: 17.3831 - categorical_accuracy: 0.1005 - val_loss: 17.2707 - val_categorical_accuracy: 0.1172\n",
            "Epoch 11/100\n",
            "34/34 [==============================] - 41s 1s/step - loss: 17.1702 - categorical_accuracy: 0.1099 - val_loss: 17.0614 - val_categorical_accuracy: 0.1172\n",
            "Epoch 12/100\n",
            "34/34 [==============================] - 43s 1s/step - loss: 16.9634 - categorical_accuracy: 0.1117 - val_loss: 16.8536 - val_categorical_accuracy: 0.1172\n",
            "Epoch 13/100\n",
            "34/34 [==============================] - 41s 1s/step - loss: 16.7596 - categorical_accuracy: 0.1117 - val_loss: 16.6501 - val_categorical_accuracy: 0.1172\n",
            "Epoch 14/100\n",
            "34/34 [==============================] - 41s 1s/step - loss: 16.5576 - categorical_accuracy: 0.1042 - val_loss: 16.4477 - val_categorical_accuracy: 0.1172\n",
            "Epoch 15/100\n",
            "34/34 [==============================] - 41s 1s/step - loss: 16.3589 - categorical_accuracy: 0.1099 - val_loss: 16.2512 - val_categorical_accuracy: 0.1172\n",
            "Epoch 16/100\n",
            "34/34 [==============================] - 41s 1s/step - loss: 16.1614 - categorical_accuracy: 0.1089 - val_loss: 16.0587 - val_categorical_accuracy: 0.1172\n",
            "Epoch 17/100\n",
            "34/34 [==============================] - 42s 1s/step - loss: 15.9692 - categorical_accuracy: 0.1117 - val_loss: 15.8684 - val_categorical_accuracy: 0.1172\n",
            "Epoch 18/100\n",
            "34/34 [==============================] - 42s 1s/step - loss: 15.7770 - categorical_accuracy: 0.1080 - val_loss: 15.6773 - val_categorical_accuracy: 0.1172\n",
            "Epoch 19/100\n",
            "34/34 [==============================] - 41s 1s/step - loss: 15.5872 - categorical_accuracy: 0.1099 - val_loss: 15.4867 - val_categorical_accuracy: 0.1172\n",
            "Epoch 20/100\n",
            "34/34 [==============================] - 41s 1s/step - loss: 15.4008 - categorical_accuracy: 0.1108 - val_loss: 15.2982 - val_categorical_accuracy: 0.1172\n",
            "Epoch 21/100\n",
            "34/34 [==============================] - 42s 1s/step - loss: 15.2152 - categorical_accuracy: 0.0920 - val_loss: 15.1154 - val_categorical_accuracy: 0.1172\n",
            "Epoch 22/100\n",
            "34/34 [==============================] - 41s 1s/step - loss: 15.0313 - categorical_accuracy: 0.1099 - val_loss: 14.9307 - val_categorical_accuracy: 0.1172\n",
            "Epoch 23/100\n",
            "34/34 [==============================] - 42s 1s/step - loss: 14.8497 - categorical_accuracy: 0.1108 - val_loss: 14.7524 - val_categorical_accuracy: 0.1172\n",
            "Epoch 24/100\n",
            "34/34 [==============================] - 42s 1s/step - loss: 14.6669 - categorical_accuracy: 0.1127 - val_loss: 14.5738 - val_categorical_accuracy: 0.1172\n",
            "Epoch 25/100\n",
            "34/34 [==============================] - 42s 1s/step - loss: 14.4917 - categorical_accuracy: 0.1127 - val_loss: 14.3974 - val_categorical_accuracy: 0.1172\n",
            "Epoch 26/100\n",
            "34/34 [==============================] - 42s 1s/step - loss: 14.3149 - categorical_accuracy: 0.1108 - val_loss: 14.2232 - val_categorical_accuracy: 0.1172\n",
            "Epoch 27/100\n",
            "34/34 [==============================] - 42s 1s/step - loss: 14.1403 - categorical_accuracy: 0.1146 - val_loss: 14.0472 - val_categorical_accuracy: 0.1172\n",
            "Epoch 28/100\n",
            "34/34 [==============================] - 42s 1s/step - loss: 13.9681 - categorical_accuracy: 0.1108 - val_loss: 13.8775 - val_categorical_accuracy: 0.1172\n",
            "Epoch 29/100\n",
            "34/34 [==============================] - 41s 1s/step - loss: 13.7969 - categorical_accuracy: 0.1099 - val_loss: 13.7075 - val_categorical_accuracy: 0.1172\n",
            "Epoch 30/100\n",
            "34/34 [==============================] - 41s 1s/step - loss: 13.6279 - categorical_accuracy: 0.1117 - val_loss: 13.5359 - val_categorical_accuracy: 0.1172\n",
            "Epoch 31/100\n",
            "34/34 [==============================] - 42s 1s/step - loss: 13.4622 - categorical_accuracy: 0.1117 - val_loss: 13.3713 - val_categorical_accuracy: 0.1172\n",
            "Epoch 32/100\n",
            "34/34 [==============================] - 42s 1s/step - loss: 13.2952 - categorical_accuracy: 0.1108 - val_loss: 13.2054 - val_categorical_accuracy: 0.1172\n",
            "Epoch 33/100\n",
            "34/34 [==============================] - 41s 1s/step - loss: 13.1284 - categorical_accuracy: 0.1108 - val_loss: 13.0403 - val_categorical_accuracy: 0.1172\n",
            "Epoch 34/100\n",
            "34/34 [==============================] - 41s 1s/step - loss: 12.9669 - categorical_accuracy: 0.1117 - val_loss: 12.8799 - val_categorical_accuracy: 0.1172\n",
            "Epoch 35/100\n",
            "34/34 [==============================] - 41s 1s/step - loss: 12.8083 - categorical_accuracy: 0.1108 - val_loss: 12.7195 - val_categorical_accuracy: 0.1172\n",
            "Epoch 36/100\n",
            "34/34 [==============================] - 41s 1s/step - loss: 12.6493 - categorical_accuracy: 0.1108 - val_loss: 12.5639 - val_categorical_accuracy: 0.1172\n",
            "Epoch 37/100\n",
            "34/34 [==============================] - 43s 1s/step - loss: 12.4901 - categorical_accuracy: 0.1117 - val_loss: 12.4055 - val_categorical_accuracy: 0.1172\n",
            "Epoch 38/100\n",
            "34/34 [==============================] - 42s 1s/step - loss: 12.3339 - categorical_accuracy: 0.1127 - val_loss: 12.2533 - val_categorical_accuracy: 0.1172\n",
            "Epoch 39/100\n",
            "34/34 [==============================] - 42s 1s/step - loss: 12.1785 - categorical_accuracy: 0.1136 - val_loss: 12.0976 - val_categorical_accuracy: 0.1172\n",
            "Epoch 40/100\n",
            "34/34 [==============================] - 41s 1s/step - loss: 12.0277 - categorical_accuracy: 0.1117 - val_loss: 11.9444 - val_categorical_accuracy: 0.1172\n",
            "Epoch 41/100\n",
            "34/34 [==============================] - 43s 1s/step - loss: 11.8764 - categorical_accuracy: 0.1108 - val_loss: 11.7956 - val_categorical_accuracy: 0.1172\n",
            "Epoch 42/100\n",
            "34/34 [==============================] - 42s 1s/step - loss: 11.7246 - categorical_accuracy: 0.1099 - val_loss: 11.6451 - val_categorical_accuracy: 0.1172\n",
            "Epoch 43/100\n",
            "34/34 [==============================] - 41s 1s/step - loss: 11.5756 - categorical_accuracy: 0.1108 - val_loss: 11.4974 - val_categorical_accuracy: 0.1172\n",
            "Epoch 44/100\n",
            "34/34 [==============================] - 42s 1s/step - loss: 11.4311 - categorical_accuracy: 0.1136 - val_loss: 11.3512 - val_categorical_accuracy: 0.1172\n",
            "Epoch 45/100\n",
            "34/34 [==============================] - 41s 1s/step - loss: 11.2839 - categorical_accuracy: 0.1117 - val_loss: 11.2112 - val_categorical_accuracy: 0.1172\n",
            "Epoch 46/100\n",
            "34/34 [==============================] - 42s 1s/step - loss: 11.1405 - categorical_accuracy: 0.1136 - val_loss: 11.0648 - val_categorical_accuracy: 0.1172\n",
            "Epoch 47/100\n",
            "34/34 [==============================] - 42s 1s/step - loss: 10.9972 - categorical_accuracy: 0.1117 - val_loss: 10.9217 - val_categorical_accuracy: 0.1172\n",
            "Epoch 48/100\n",
            "34/34 [==============================] - 42s 1s/step - loss: 10.8570 - categorical_accuracy: 0.1108 - val_loss: 10.7824 - val_categorical_accuracy: 0.1172\n",
            "Epoch 49/100\n",
            "34/34 [==============================] - 42s 1s/step - loss: 10.7185 - categorical_accuracy: 0.1117 - val_loss: 10.6452 - val_categorical_accuracy: 0.1172\n",
            "Epoch 50/100\n",
            "34/34 [==============================] - 42s 1s/step - loss: 10.5788 - categorical_accuracy: 0.1005 - val_loss: 10.5068 - val_categorical_accuracy: 0.1172\n",
            "Epoch 51/100\n",
            "34/34 [==============================] - 41s 1s/step - loss: 10.4436 - categorical_accuracy: 0.1089 - val_loss: 10.3690 - val_categorical_accuracy: 0.1172\n",
            "Epoch 52/100\n",
            "34/34 [==============================] - 41s 1s/step - loss: 10.3077 - categorical_accuracy: 0.1112 - val_loss: 10.2333 - val_categorical_accuracy: 0.1172\n",
            "Epoch 53/100\n",
            "34/34 [==============================] - 41s 1s/step - loss: 10.1747 - categorical_accuracy: 0.1136 - val_loss: 10.1027 - val_categorical_accuracy: 0.1172\n",
            "Epoch 54/100\n",
            "34/34 [==============================] - 41s 1s/step - loss: 10.0409 - categorical_accuracy: 0.1108 - val_loss: 9.9700 - val_categorical_accuracy: 0.1172\n",
            "Epoch 55/100\n",
            "34/34 [==============================] - 41s 1s/step - loss: 9.9118 - categorical_accuracy: 0.1080 - val_loss: 9.8409 - val_categorical_accuracy: 0.1172\n",
            "Epoch 56/100\n",
            "34/34 [==============================] - 41s 1s/step - loss: 9.7814 - categorical_accuracy: 0.1127 - val_loss: 9.7120 - val_categorical_accuracy: 0.1172\n",
            "Epoch 57/100\n",
            "34/34 [==============================] - 41s 1s/step - loss: 9.6532 - categorical_accuracy: 0.1099 - val_loss: 9.5839 - val_categorical_accuracy: 0.1172\n",
            "Epoch 58/100\n",
            "34/34 [==============================] - 41s 1s/step - loss: 9.5268 - categorical_accuracy: 0.1099 - val_loss: 9.4556 - val_categorical_accuracy: 0.1172\n",
            "Epoch 59/100\n",
            "34/34 [==============================] - 41s 1s/step - loss: 9.4008 - categorical_accuracy: 0.1108 - val_loss: 9.3337 - val_categorical_accuracy: 0.1172\n",
            "Epoch 60/100\n",
            "34/34 [==============================] - 41s 1s/step - loss: 9.2746 - categorical_accuracy: 0.1108 - val_loss: 9.2101 - val_categorical_accuracy: 0.1172\n",
            "Epoch 61/100\n",
            "34/34 [==============================] - 41s 1s/step - loss: 9.1520 - categorical_accuracy: 0.1117 - val_loss: 9.0874 - val_categorical_accuracy: 0.1172\n",
            "Epoch 62/100\n",
            "34/34 [==============================] - 41s 1s/step - loss: 9.0329 - categorical_accuracy: 0.1117 - val_loss: 8.9663 - val_categorical_accuracy: 0.1172\n",
            "Epoch 63/100\n",
            "34/34 [==============================] - 42s 1s/step - loss: 8.9108 - categorical_accuracy: 0.1127 - val_loss: 8.8468 - val_categorical_accuracy: 0.1172\n",
            "Epoch 64/100\n",
            "34/34 [==============================] - 41s 1s/step - loss: 8.7934 - categorical_accuracy: 0.1089 - val_loss: 8.7279 - val_categorical_accuracy: 0.1172\n",
            "Epoch 65/100\n",
            "34/34 [==============================] - 41s 1s/step - loss: 8.6766 - categorical_accuracy: 0.1108 - val_loss: 8.6143 - val_categorical_accuracy: 0.1172\n",
            "Epoch 66/100\n",
            "34/34 [==============================] - 41s 1s/step - loss: 8.5599 - categorical_accuracy: 0.1127 - val_loss: 8.4992 - val_categorical_accuracy: 0.1172\n",
            "Epoch 67/100\n",
            "34/34 [==============================] - 41s 1s/step - loss: 8.4459 - categorical_accuracy: 0.1089 - val_loss: 8.3841 - val_categorical_accuracy: 0.1172\n",
            "Epoch 68/100\n",
            "34/34 [==============================] - 41s 1s/step - loss: 8.3320 - categorical_accuracy: 0.1127 - val_loss: 8.2708 - val_categorical_accuracy: 0.1172\n",
            "Epoch 69/100\n",
            "34/34 [==============================] - 41s 1s/step - loss: 8.2194 - categorical_accuracy: 0.1127 - val_loss: 8.1575 - val_categorical_accuracy: 0.1172\n",
            "Epoch 70/100\n",
            "34/34 [==============================] - 41s 1s/step - loss: 8.1085 - categorical_accuracy: 0.1108 - val_loss: 8.0469 - val_categorical_accuracy: 0.1172\n",
            "Epoch 71/100\n",
            "34/34 [==============================] - 41s 1s/step - loss: 7.9982 - categorical_accuracy: 0.1117 - val_loss: 7.9379 - val_categorical_accuracy: 0.1172\n",
            "Epoch 72/100\n",
            "34/34 [==============================] - 41s 1s/step - loss: 7.8911 - categorical_accuracy: 0.1108 - val_loss: 7.8326 - val_categorical_accuracy: 0.1172\n",
            "Epoch 73/100\n",
            "34/34 [==============================] - 41s 1s/step - loss: 7.7838 - categorical_accuracy: 0.1108 - val_loss: 7.7243 - val_categorical_accuracy: 0.1172\n",
            "Epoch 74/100\n",
            "34/34 [==============================] - 41s 1s/step - loss: 7.6793 - categorical_accuracy: 0.1127 - val_loss: 7.6211 - val_categorical_accuracy: 0.1172\n",
            "Epoch 75/100\n",
            "34/34 [==============================] - 42s 1s/step - loss: 7.5739 - categorical_accuracy: 0.1103 - val_loss: 7.5163 - val_categorical_accuracy: 0.1172\n",
            "Epoch 76/100\n",
            "34/34 [==============================] - 40s 1s/step - loss: 7.4702 - categorical_accuracy: 0.1108 - val_loss: 7.4139 - val_categorical_accuracy: 0.1172\n",
            "Epoch 77/100\n",
            "34/34 [==============================] - 41s 1s/step - loss: 7.3686 - categorical_accuracy: 0.1099 - val_loss: 7.3125 - val_categorical_accuracy: 0.1172\n",
            "Epoch 78/100\n",
            "34/34 [==============================] - 41s 1s/step - loss: 7.2694 - categorical_accuracy: 0.1108 - val_loss: 7.2133 - val_categorical_accuracy: 0.1172\n",
            "Epoch 79/100\n",
            "34/34 [==============================] - 40s 1s/step - loss: 7.1696 - categorical_accuracy: 0.1117 - val_loss: 7.1141 - val_categorical_accuracy: 0.1172\n",
            "Epoch 80/100\n",
            "34/34 [==============================] - 40s 1s/step - loss: 7.0718 - categorical_accuracy: 0.1117 - val_loss: 7.0154 - val_categorical_accuracy: 0.1172\n",
            "Epoch 81/100\n",
            "34/34 [==============================] - 40s 1s/step - loss: 6.9742 - categorical_accuracy: 0.1117 - val_loss: 6.9198 - val_categorical_accuracy: 0.1172\n",
            "Epoch 82/100\n",
            "34/34 [==============================] - 40s 1s/step - loss: 6.8789 - categorical_accuracy: 0.1136 - val_loss: 6.8253 - val_categorical_accuracy: 0.1172\n",
            "Epoch 83/100\n",
            "34/34 [==============================] - 40s 1s/step - loss: 6.7831 - categorical_accuracy: 0.1127 - val_loss: 6.7332 - val_categorical_accuracy: 0.1172\n",
            "Epoch 84/100\n",
            "34/34 [==============================] - 40s 1s/step - loss: 6.6911 - categorical_accuracy: 0.1117 - val_loss: 6.6391 - val_categorical_accuracy: 0.1172\n",
            "Epoch 85/100\n",
            "34/34 [==============================] - 40s 1s/step - loss: 6.5995 - categorical_accuracy: 0.1136 - val_loss: 6.5482 - val_categorical_accuracy: 0.1172\n",
            "Epoch 86/100\n",
            "34/34 [==============================] - 40s 1s/step - loss: 6.5095 - categorical_accuracy: 0.1108 - val_loss: 6.4599 - val_categorical_accuracy: 0.1172\n",
            "Epoch 87/100\n",
            "34/34 [==============================] - 40s 1s/step - loss: 6.4193 - categorical_accuracy: 0.1127 - val_loss: 6.3673 - val_categorical_accuracy: 0.1172\n",
            "Epoch 88/100\n",
            "34/34 [==============================] - 40s 1s/step - loss: 6.3325 - categorical_accuracy: 0.1117 - val_loss: 6.2821 - val_categorical_accuracy: 0.1172\n",
            "Epoch 89/100\n",
            "34/34 [==============================] - 40s 1s/step - loss: 6.2458 - categorical_accuracy: 0.1089 - val_loss: 6.1960 - val_categorical_accuracy: 0.1172\n",
            "Epoch 90/100\n",
            "34/34 [==============================] - 42s 1s/step - loss: 6.1583 - categorical_accuracy: 0.1127 - val_loss: 6.1103 - val_categorical_accuracy: 0.1172\n",
            "Epoch 91/100\n",
            "34/34 [==============================] - 44s 1s/step - loss: 6.0739 - categorical_accuracy: 0.1099 - val_loss: 6.0255 - val_categorical_accuracy: 0.1172\n",
            "Epoch 92/100\n",
            "34/34 [==============================] - 43s 1s/step - loss: 5.9914 - categorical_accuracy: 0.1108 - val_loss: 5.9438 - val_categorical_accuracy: 0.1172\n",
            "Epoch 93/100\n",
            "34/34 [==============================] - 43s 1s/step - loss: 5.9083 - categorical_accuracy: 0.0948 - val_loss: 5.8626 - val_categorical_accuracy: 0.1172\n",
            "Epoch 94/100\n",
            "34/34 [==============================] - 43s 1s/step - loss: 5.8287 - categorical_accuracy: 0.1117 - val_loss: 5.7809 - val_categorical_accuracy: 0.1172\n",
            "Epoch 95/100\n",
            "34/34 [==============================] - 42s 1s/step - loss: 5.7481 - categorical_accuracy: 0.1127 - val_loss: 5.7011 - val_categorical_accuracy: 0.1172\n",
            "Epoch 96/100\n",
            "34/34 [==============================] - 42s 1s/step - loss: 5.6697 - categorical_accuracy: 0.1136 - val_loss: 5.6253 - val_categorical_accuracy: 0.1172\n",
            "Epoch 97/100\n",
            "34/34 [==============================] - 42s 1s/step - loss: 5.5921 - categorical_accuracy: 0.1099 - val_loss: 5.5476 - val_categorical_accuracy: 0.1172\n",
            "Epoch 98/100\n",
            "34/34 [==============================] - 44s 1s/step - loss: 5.5154 - categorical_accuracy: 0.1108 - val_loss: 5.4731 - val_categorical_accuracy: 0.1172\n",
            "Epoch 99/100\n",
            "34/34 [==============================] - 42s 1s/step - loss: 5.4409 - categorical_accuracy: 0.1108 - val_loss: 5.3990 - val_categorical_accuracy: 0.1172\n",
            "Epoch 100/100\n",
            "34/34 [==============================] - 43s 1s/step - loss: 5.3663 - categorical_accuracy: 0.1099 - val_loss: 5.3234 - val_categorical_accuracy: 0.1172\n"
          ]
        }
      ]
    },
    {
      "cell_type": "code",
      "metadata": {
        "colab": {
          "base_uri": "https://localhost:8080/"
        },
        "id": "KUcMac5SxcNg",
        "outputId": "d2c535f9-709f-4745-fd72-fde486022640"
      },
      "source": [
        "model.summary()"
      ],
      "execution_count": null,
      "outputs": [
        {
          "output_type": "stream",
          "text": [
            "Model: \"sequential\"\n",
            "_________________________________________________________________\n",
            "Layer (type)                 Output Shape              Param #   \n",
            "=================================================================\n",
            "conv2d (Conv2D)              (None, 62, 62, 512)       14336     \n",
            "_________________________________________________________________\n",
            "conv2d_1 (Conv2D)            (None, 60, 60, 512)       2359808   \n",
            "_________________________________________________________________\n",
            "max_pooling2d (MaxPooling2D) (None, 30, 30, 512)       0         \n",
            "_________________________________________________________________\n",
            "dropout (Dropout)            (None, 30, 30, 512)       0         \n",
            "_________________________________________________________________\n",
            "conv2d_2 (Conv2D)            (None, 28, 28, 512)       2359808   \n",
            "_________________________________________________________________\n",
            "conv2d_3 (Conv2D)            (None, 26, 26, 512)       2359808   \n",
            "_________________________________________________________________\n",
            "max_pooling2d_1 (MaxPooling2 (None, 13, 13, 512)       0         \n",
            "_________________________________________________________________\n",
            "dropout_1 (Dropout)          (None, 13, 13, 512)       0         \n",
            "_________________________________________________________________\n",
            "flatten (Flatten)            (None, 86528)             0         \n",
            "_________________________________________________________________\n",
            "dense (Dense)                (None, 256)               22151424  \n",
            "_________________________________________________________________\n",
            "dropout_2 (Dropout)          (None, 256)               0         \n",
            "_________________________________________________________________\n",
            "dense_1 (Dense)              (None, 256)               65792     \n",
            "_________________________________________________________________\n",
            "dropout_3 (Dropout)          (None, 256)               0         \n",
            "_________________________________________________________________\n",
            "dense_2 (Dense)              (None, 10)                2570      \n",
            "=================================================================\n",
            "Total params: 29,313,546\n",
            "Trainable params: 29,313,546\n",
            "Non-trainable params: 0\n",
            "_________________________________________________________________\n"
          ],
          "name": "stdout"
        }
      ]
    },
    {
      "cell_type": "code",
      "metadata": {
        "id": "oPI--OLCJa6f"
      },
      "source": [
        "from keras.models import load_model\n",
        "model.save(\"/content/drive/MyDrive/model.h5\")\n",
        "del model\n",
        "model = load_model(\"/content/drive/MyDrive/model.h5\")"
      ],
      "execution_count": null,
      "outputs": []
    },
    {
      "cell_type": "code",
      "metadata": {
        "colab": {
          "base_uri": "https://localhost:8080/",
          "height": 245
        },
        "id": "DV7ATuU1JrzQ",
        "outputId": "3ea41097-e032-4271-8696-3b0607547d31"
      },
      "source": [
        "monkey_names = ['Mantled Howler', 'Patas monkey', 'Bald Uakari', 'Japanese Macaque', 'Pygmy Marmoset', 'White Headed Capuchin', 'Silvery Marmoset', 'Common Squirrel monkey', 'Black Headed Night monkey', 'Nilgiri Langur']\n",
        "import numpy as np\n",
        "from keras.preprocessing import image\n",
        "test_image = image.load_img(\"/content/drive/MyDrive/Bald-Uakari.jpg\", target_size = (64,64))\n",
        "test_image = image.img_to_array(test_image)\n",
        "test_image = np.expand_dims(test_image, axis = 0)\n",
        "model.predict(test_image)\n",
        "result = model.predict(test_image)\n",
        "index = np.where(result == 1)[1][0]\n",
        "print(monkey_names[index])\n",
        "model_eval= model.evaluate_generator(validation_generator)\n",
        "print(\"test lost: \",model_eval[0])\n",
        "print(\"test acuuracy: \",model_eval[1])"
      ],
      "execution_count": null,
      "outputs": [
        {
          "output_type": "error",
          "ename": "IndexError",
          "evalue": "ignored",
          "traceback": [
            "\u001b[0;31m---------------------------------------------------------------------------\u001b[0m",
            "\u001b[0;31mIndexError\u001b[0m                                Traceback (most recent call last)",
            "\u001b[0;32m<ipython-input-16-1f8570d384f3>\u001b[0m in \u001b[0;36m<module>\u001b[0;34m()\u001b[0m\n\u001b[1;32m      7\u001b[0m \u001b[0mmodel\u001b[0m\u001b[0;34m.\u001b[0m\u001b[0mpredict\u001b[0m\u001b[0;34m(\u001b[0m\u001b[0mtest_image\u001b[0m\u001b[0;34m)\u001b[0m\u001b[0;34m\u001b[0m\u001b[0;34m\u001b[0m\u001b[0m\n\u001b[1;32m      8\u001b[0m \u001b[0mresult\u001b[0m \u001b[0;34m=\u001b[0m \u001b[0mmodel\u001b[0m\u001b[0;34m.\u001b[0m\u001b[0mpredict\u001b[0m\u001b[0;34m(\u001b[0m\u001b[0mtest_image\u001b[0m\u001b[0;34m)\u001b[0m\u001b[0;34m\u001b[0m\u001b[0;34m\u001b[0m\u001b[0m\n\u001b[0;32m----> 9\u001b[0;31m \u001b[0mindex\u001b[0m \u001b[0;34m=\u001b[0m \u001b[0mnp\u001b[0m\u001b[0;34m.\u001b[0m\u001b[0mwhere\u001b[0m\u001b[0;34m(\u001b[0m\u001b[0mresult\u001b[0m \u001b[0;34m==\u001b[0m \u001b[0;36m1\u001b[0m\u001b[0;34m)\u001b[0m\u001b[0;34m[\u001b[0m\u001b[0;36m1\u001b[0m\u001b[0;34m]\u001b[0m\u001b[0;34m[\u001b[0m\u001b[0;36m0\u001b[0m\u001b[0;34m]\u001b[0m\u001b[0;34m\u001b[0m\u001b[0;34m\u001b[0m\u001b[0m\n\u001b[0m\u001b[1;32m     10\u001b[0m \u001b[0mprint\u001b[0m\u001b[0;34m(\u001b[0m\u001b[0mmonkey_names\u001b[0m\u001b[0;34m[\u001b[0m\u001b[0mindex\u001b[0m\u001b[0;34m]\u001b[0m\u001b[0;34m)\u001b[0m\u001b[0;34m\u001b[0m\u001b[0;34m\u001b[0m\u001b[0m\n\u001b[1;32m     11\u001b[0m \u001b[0mmodel_eval\u001b[0m\u001b[0;34m=\u001b[0m \u001b[0mmodel\u001b[0m\u001b[0;34m.\u001b[0m\u001b[0mevaluate_generator\u001b[0m\u001b[0;34m(\u001b[0m\u001b[0mvalidation_generator\u001b[0m\u001b[0;34m)\u001b[0m\u001b[0;34m\u001b[0m\u001b[0;34m\u001b[0m\u001b[0m\n",
            "\u001b[0;31mIndexError\u001b[0m: index 0 is out of bounds for axis 0 with size 0"
          ]
        }
      ]
    },
    {
      "cell_type": "code",
      "metadata": {
        "colab": {
          "base_uri": "https://localhost:8080/",
          "height": 573
        },
        "id": "fR1YGPhO6vec",
        "outputId": "ba1b3473-6922-46ba-d90f-54f9ae4f7fe6"
      },
      "source": [
        "import matplotlib.pyplot as plt\n",
        "%matplotlib inline\n",
        "\n",
        "acc=history.history['categorical_accuracy']\n",
        "val_acc=history.history['val_categorical_accuracy']\n",
        "loss=history.history['loss']\n",
        "val_loss=history.history['val_loss']\n",
        "epochs=range(1,len(acc)+1)\n",
        "plt.xlabel('Epochs')\n",
        "plt.ylabel('Accuracy')\n",
        "plt.plot(epochs, acc, 'bo', label='Training acc')\n",
        "plt.plot(epochs, val_acc, 'b', label='Validation acc')\n",
        "plt.title('Training and validation accuracy')\n",
        "plt.legend()\n",
        "plt.figure()\n",
        "\n",
        "plt.plot(epochs, loss, 'bo', label='Training loss')\n",
        "plt.plot(epochs, val_loss, 'b', label='Validation loss')\n",
        "plt.title('Training and validation loss')\n",
        "plt.xlabel('Epochs')\n",
        "plt.ylabel('Loss')\n",
        "plt.legend()\n",
        "plt.show()"
      ],
      "execution_count": null,
      "outputs": [
        {
          "output_type": "display_data",
          "data": {
            "image/png": "[encoded data removed]",
            "text/plain": [
              "<Figure size 432x288 with 1 Axes>"
            ]
          },
          "metadata": {
            "tags": [],
            "needs_background": "light"
          }
        },
        {
          "output_type": "display_data",
          "data": {
            "image/png": "[encoded data removed]",
            "text/plain": [
              "<Figure size 432x288 with 1 Axes>"
            ]
          },
          "metadata": {
            "tags": [],
            "needs_background": "light"
          }
        }
      ]
    }
  ]
}